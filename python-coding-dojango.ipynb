{
 "cells": [
  {
   "cell_type": "markdown",
   "metadata": {},
   "source": [
    "## 1. 입출력\n",
    "입력 : **변수1, 변수2 = map(int, input('문자열').split('기준문자열'))**\n",
    "\n",
    "출력 : **print**, **sep**, **end**\n"
   ]
  },
  {
   "cell_type": "code",
   "execution_count": null,
   "metadata": {},
   "outputs": [],
   "source": [
    "print('hello','python',sep=\"-\")"
   ]
  },
  {
   "cell_type": "code",
   "execution_count": null,
   "metadata": {
    "scrolled": true
   },
   "outputs": [],
   "source": [
    "num1, num2 = map(int, input('숫자 2개를 입력하세요 : ').split(' '));\n",
    "print(num1 + num2);"
   ]
  },
  {
   "cell_type": "markdown",
   "metadata": {},
   "source": [
    "## 2. 비교연산자, 논리연산자\n",
    "비교연산자 : **<**, **>**, **<=**, **>=**, **==**, **!=**, **is**, **is not**\n",
    "\n",
    "논리연산자 : **and**, **or**, **not**"
   ]
  },
  {
   "cell_type": "code",
   "execution_count": null,
   "metadata": {},
   "outputs": [],
   "source": [
    "1 is 1.0"
   ]
  },
  {
   "cell_type": "code",
   "execution_count": null,
   "metadata": {},
   "outputs": [],
   "source": [
    "1 is not 1.0"
   ]
  },
  {
   "cell_type": "code",
   "execution_count": null,
   "metadata": {},
   "outputs": [],
   "source": [
    "((not True) and False) or not False"
   ]
  },
  {
   "cell_type": "markdown",
   "metadata": {},
   "source": [
    "## 3. 리스트\n",
    "\n",
    "### 3-1. 리스트 생성\n",
    "\n",
    "생성 : 리스트 = [value1, value2, value3]\n",
    "    \n",
    "빈리스트 생성 : 리스트 = [], 리스트 = list()\n",
    "\n",
    "range 활용 : 리스트 = list(range(시작, 끝, 증가폭))\n",
    "\n",
    "### 3-2. 리스트 활용\n",
    "\n",
    "#### 3-2-1. 리스트 요소 추가\n",
    "\n",
    "요소 추가 : 리스트.append(요소)\n",
    "\n",
    "리스트 추가 : 리스트.append(리스트)\n",
    "\n",
    "리스트 확장 : 리스트.extend(리스트)\n",
    "\n",
    "특정 인덱스에 요소 추가 : 리스트.insert(인덱스, 요소)\n",
    "\n",
    "#### 3-2-2. 리스트 요소 삭제\n",
    "\n",
    "마지막 요소 삭제 : pop()\n",
    "\n",
    "특정 인덱스 요소 삭제 : pop(인덱스), del 리스트[인덱스]\n",
    "\n",
    "특정 값 삭제 : remove(값)\n",
    "\n",
    "모든 요소 삭제 : clear(), del 리스트[:]\n",
    "\n",
    "#### 3-2-3. 리스트 특정 값 구하기\n",
    "\n",
    "특정 값 인덱스 : index(값)\n",
    "\n",
    "특정 값 개수 : count(값)\n",
    "\n",
    "#### 3-2-4. 리스트 순서 바꾸기\n",
    "\n",
    "순서 뒤집기 : reverse()\n",
    "\n",
    "순서 정렬 : sort(), sort(reverse=False)\n",
    "\n",
    "정렬된 새 리스트 반환 : sorted(리스트)\n",
    "\n",
    "#### 3-2-5. 리스트 슬라이스로 조작\n",
    "\n",
    "리스트 끝에 요소 추가 : 리스트[len(리스트):] = 값\n",
    "\n",
    "#### 3-2-6. 리스트 할당과 복사\n",
    "\n",
    "할당 : a = b 는 a is b, a == b\n",
    "\n",
    "복사 : a = b.copy() 는 a is not b, a == b\n",
    "\n",
    "#### 3-2-7. 반복문으로 리스트 요소 출력\n",
    "\n",
    "#### 3-2-8. 리스트 가장 작은수, 가장 큰수, 합계\n",
    "\n",
    "#### 3-2-9. 리스트 표현식 사용\n",
    "\n",
    "#### 3-2-10. 리스트에 map 사용\n",
    "\n",
    "### 3-3. 2차원 리스트\n",
    "\n",
    "#### 3-3-1. 2차원 리스트 생성 및 요소 접근\n",
    "\n",
    "#### 3-3-2. 반복문으로 2차원 리스트 요소 출력\n",
    "\n",
    "#### 3-3-3. 반복문으로 리스트 생성\n",
    "\n",
    "#### 3-3-4. 2차원 리스트 할당과 복사\n"
   ]
  },
  {
   "cell_type": "markdown",
   "metadata": {},
   "source": [
    "### 3-1. 리스트 생성"
   ]
  },
  {
   "cell_type": "code",
   "execution_count": 10,
   "metadata": {},
   "outputs": [],
   "source": [
    "# 리스트 생성\n",
    "player = [\"son\",29,181,True]\n",
    "\n",
    "# 빈리스트\n",
    "a = []\n",
    "b = list()\n",
    "\n",
    "# range 활용 리스트\n",
    "range(10)\n",
    "c = list(range(10))\n",
    "d = list(range(3,7))\n",
    "e = list(range(-5,5,2))\n",
    "f = list(range(10,0,-2))"
   ]
  },
  {
   "cell_type": "markdown",
   "metadata": {},
   "source": [
    "### 3-2. 리스트 활용"
   ]
  },
  {
   "cell_type": "code",
   "execution_count": null,
   "metadata": {},
   "outputs": [
    {
     "name": "stdout",
     "output_type": "stream",
     "text": [
      "1\n",
      "2\n",
      "3\n",
      "4\n",
      "5\n",
      "6\n",
      "1 1\n",
      "2 2\n",
      "3 3\n",
      "4 4\n",
      "5 5\n",
      "6 6\n",
      "1\n",
      "2\n",
      "3\n",
      "4\n",
      "5\n",
      "6\n"
     ]
    }
   ],
   "source": [
    "# 리스트에 요소 하나 추가\n",
    "a = [10, 20, 30]\n",
    "a.append(40) # [10, 20, 30, 40]\n",
    "\n",
    "# 리스트 안에 리스트 추가\n",
    "a.append([50,60]) # [10, 20, 30, 40, [50, 60]]\n",
    "\n",
    "# 리스트 확장\n",
    "a.extend([70,80]) # [10, 20, 30, 40, [50, 60], 70, 80]\n",
    "\n",
    "# 리스트 특정 인덱스에 요소 추가\n",
    "a.insert(2,25) # [10, 20, 25, 30, 40, [50, 60], 70, 80]\n",
    "a.insert(len(a), 90) # [10, 20, 25, 30, 40, [50, 60], 70, 80, 90]\n",
    "\n",
    "# 리스트에서 요소 삭제\n",
    "a.pop() # 90\n",
    "a.pop(2) # 25\n",
    "del a[1] # 20\n",
    "\n",
    "# 리스트에서 특정값 찾아서 삭제\n",
    "# 값이 여러개 일 경우 처음 찾은 값 삭제\n",
    "a.remove(70)\n",
    "\n",
    "# 리스트에서 특정 값 인덱스 구하기\n",
    "a.index(30) # 1\n",
    "\n",
    "# 특정 값 개수 구하기\n",
    "b = [10, 20, 30, 40, 20, 50]\n",
    "b.count(20) # 2\n",
    "\n",
    "# 리스트 순서 뒤집기\n",
    "b.reverse()\n",
    "\n",
    "# 리스트 요소 정렬\n",
    "# sort는 메서드를 사용한 리스트를 변경하나 sorted는 정렬된 새 리스트 생성\n",
    "b.sort()\n",
    "sorted(b)\n",
    "\n",
    "# 리스트 모든 요소 삭제\n",
    "a.clear()\n",
    "del b[:]\n",
    "\n",
    "# 리스트 슬라이스로 조작\n",
    "a = [10, 20, 30]\n",
    "a[len(a):] = [40, 50]\n",
    "a # [10, 20, 30, 40, 50]\n",
    "\n",
    "# 리스트 할당과 복사\n",
    "a = [0, 0, 0, 0, 0]\n",
    "b = a\n",
    "a is b # True\n",
    "b[1] = 77\n",
    "a # [0, 77, 0, 0, 0]\n",
    "b # [0, 77, 0, 0, 0]\n",
    "\n",
    "a = [0,0, 0, 0, 0]\n",
    "b = a.copy()\n",
    "a is b # False\n",
    "a == b # True\n",
    "b[1] = 77\n",
    "a # [0, 0, 0, 0, 0]\n",
    "b # [0, 77, 0, 0, 0]\n",
    "\n",
    "# 반복문으로 리스트 요소 모두 출력\n",
    "a = [1,2,3,4,5,6]\n",
    "for i in a:\n",
    "    print(i)\n",
    "\n",
    "# 인덱스와 요소 함께 출력\n",
    "a = [1,2,3,4,5,6]\n",
    "for index, value in enumerate(a, start=1):\n",
    "    print(index, value)\n",
    "    \n",
    "# while 반복문으로 요소 출력\n",
    "a = [1,2,3,4,5,6]\n",
    "i = 0\n",
    "while i < len(a):\n",
    "    print(a[i])\n",
    "    i += 1\n",
    "\n",
    "# 리스트 가장 작은 수\n",
    "a = [1,2,3,4,5,6]\n",
    "smallest = a[0]\n",
    "for i in a:\n",
    "    if i < smallest:\n",
    "        smallest = i\n",
    "\n",
    "a.sort()\n",
    "a[0] # 가장 작은수\n",
    "\n",
    "min(a) # 가장 작은수\n",
    "\n",
    "# 리스트 가장 큰 수\n",
    "a = [1,2,3,4,5,6]\n",
    "largest = a[0]\n",
    "for i in a:\n",
    "    if i > largest:\n",
    "        largest = i\n",
    "        \n",
    "a.sort(reverse=True) # 가장 큰 수\n",
    "max(a) # 가장 큰 수\n",
    "\n",
    "# 요소 합계 구하기\n",
    "a = [10, 10, 10, 10, 10]\n",
    "x = 0\n",
    "for i in a:\n",
    "    x += i\n",
    "\n",
    "sum(a)\n",
    "\n",
    "# 리스트 표현식\n",
    "a = [i for i in range(5)] # [0,1,2,3,4]\n",
    "b = list(i for i in range(5)) # [01,2,3,4]\n",
    "\n",
    "# 리스트 표현식에서 if 조건문 사용\n",
    "a = [i for i in range(10) if i % 2 == 0] # [0, 2, 4, 6, 8]\n",
    "b = [i + 5 for i in range(10) if i % 2 == 1] # [6, 8, 10, 12, 14]\n",
    "\n",
    "# for 반복문과 if 조건문 여러번 사용\n",
    "\n",
    "# 리스트에 map 사용\n",
    "a = [1.2, 2.5, 3.7, 4.6]\n",
    "for i in range(len(a)):\n",
    "    a[i] = int(a[i])\n",
    "\n",
    "a = [1.2, 2.5, 3.7, 4.6]\n",
    "a = list(map(int, a)) # [1,2,3,4]\n",
    "a = list(map(str, range(5))) # ['0', '1', '2', '3', '4']\n",
    "\n",
    "# input().split()과 map\n",
    "a = map(int, input().split()) # 10 20 입력\n",
    "a # <map object at 0x03DFB0D0>\n",
    "list(a)"
   ]
  },
  {
   "cell_type": "markdown",
   "metadata": {},
   "source": [
    "### 3-3. 2차원 리스트"
   ]
  },
  {
   "cell_type": "code",
   "execution_count": null,
   "metadata": {},
   "outputs": [],
   "source": [
    "# 2차원 리스트 생성 후 요소 접근\n",
    "a = [[10, 20], [30, 40], [50, 60]]\n",
    "\n",
    "# 2차원 리스트 요소 접근\n",
    "a[0][0] # 10\n",
    "a[1][1] # 40\n",
    "a[0][1] = 2000\n",
    "a[0][1] # 2000\n",
    "\n",
    "# 톱니형 리스트, 가로 크기가 불규칙한 톱니형 리스트\n",
    "\n",
    "# 2차원 튜플\n",
    "\n",
    "# 사람이 알아보기 쉽게 출력"
   ]
  },
  {
   "cell_type": "markdown",
   "metadata": {},
   "source": [
    "## 4. 튜플\n",
    "### 튜플 사용하기\n",
    "### 튜플 응용\n",
    "#### 튜플에서 특정 값의 인덱스 구하기\n",
    "#### 특정 값의 개수 구하기\n",
    "#### for 반복문으로 요소 출력\n",
    "#### 튜플 표현식 사용\n",
    "#### tuple에 map 사용\n",
    "#### 튜플에서 가장 작은수, 가장 큰수, 합계 구하기"
   ]
  },
  {
   "cell_type": "markdown",
   "metadata": {},
   "source": [
    "## 5. 시퀸스 자료형 활용\n",
    "### 시퀸스 자료형의 공통 기능 사용\n",
    "### 시퀸스 객체의 요소 개수 구하기\n",
    "### 인덱스 사용\n",
    "### 슬라이스 사용"
   ]
  },
  {
   "cell_type": "markdown",
   "metadata": {},
   "source": [
    "## 6. 딕셔너리\n",
    "### 딕셔너리 만들기\n",
    "### 딕셔너리의 키에 접근하고 값 할당"
   ]
  },
  {
   "cell_type": "markdown",
   "metadata": {},
   "source": [
    "## 7. 세트\n",
    "### 세트 만들기\n",
    "### 집합연산 사용\n",
    "### 세트 조작\n",
    "### 세트의 할당과 복사\n",
    "### 반복문으로 세트의 요소를 모두 출력\n",
    "### 세트 표현식 사용"
   ]
  },
  {
   "cell_type": "markdown",
   "metadata": {},
   "source": [
    "## 8. 조건문 if, elsif, else\n",
    "### if 조건문으로 특정 조건 일때 코드 실행\n",
    "#### if 조건문 사용\n",
    "#### 중첩 if 조건문 사용\n",
    "#### 사용자가 입력한 값에 if 조건문 사용\n",
    "### else를 사용해 두 방향으로 분기\n",
    "#### else 사용\n",
    "#### else와 들여쓰기\n",
    "#### if 조건문의 동작방식\n",
    "#### 조건식을 여러개 지정\n",
    "### elif를 사용해 여러방향으로 분기\n",
    "#### elif 사용"
   ]
  },
  {
   "cell_type": "markdown",
   "metadata": {},
   "source": [
    "## 9. 반복문 for, while 반복문 제어 break, continue\n",
    "### for 반복문\n",
    "#### for, range 사용\n",
    "#### for, range 응용\n",
    "#### 시퀸스 객체로 반복\n",
    "### while 반복문\n",
    "#### while 반복문 사용\n",
    "#### 반복 횟수가 정해지지 않은 경우\n",
    "#### while 반복문으로 무한루프 \n",
    "### break, continue 반복문 제어\n",
    "#### break로 반복문 끝내기\n",
    "#### continue로 코드실행 건너뛰기\n",
    "#### 입력한 횟수대로 반복"
   ]
  },
  {
   "cell_type": "markdown",
   "metadata": {},
   "source": [
    "## 10. 함수\n",
    "### 함수 사용\n",
    "#### Hello,world 출력 함수\n",
    "#### 덧셈 함수\n",
    "#### 함수 결과 반환하기\n",
    "#### 함수에서 값을 여러개 반환\n",
    "#### 함수의 호출 과정\n",
    "### 함수에서 위치 인수와 키워드 인수 사용\n",
    "#### 위치인수와 리스트 언패킹 사용\n",
    "#### 키워드 인수 사용\n",
    "#### 키워드 인수와 딕셔너리 언패킹 사용\n",
    "#### 매개변수에 초깃값 지정\n",
    "### 함수에서 재귀 호출 사용\n",
    "#### 재귀호출 사용\n",
    "#### 재귀호출로 팩토리얼 구하기\n",
    "### 람다 표현식\n",
    "#### 람다표현식으로 함수 만들기\n",
    "#### 람다표현식과 map,filter,reduce 함수 활용"
   ]
  },
  {
   "cell_type": "markdown",
   "metadata": {},
   "source": [
    "## 11. 클로저\n",
    "### 변수의 사용범위\n",
    "### 함수 안에서 함수 만들기\n",
    "### 클로저 사용"
   ]
  },
  {
   "cell_type": "markdown",
   "metadata": {},
   "source": [
    "## 11. 클래스\n",
    "### 클래스 사용\n",
    "#### 클래스와 메서드 만들기\n",
    "#### 속성 사용\n",
    "#### 비공개 속성 사용\n",
    "### 클래스 속성과 정적, 클래스 메서드 사용\n",
    "#### 클래스 속성과 인스턴스 속성\n",
    "#### 정적메서드 사용\n",
    "#### 클래스 메서드 사용\n",
    "### 클래스 상속 사용\n",
    "#### 사람 클래스로 학생 클래스 생성\n",
    "#### 상속관계와 포함관계 알아보기\n",
    "#### 기반클래스의 속성 사용\n",
    "#### 메서드 오버라이딩 사용\n",
    "#### 다중상속사용\n",
    "#### 추상클래스 사용"
   ]
  },
  {
   "cell_type": "markdown",
   "metadata": {},
   "source": [
    "## 12. 예외처리\n",
    "### try except로 사용\n",
    "### else, finally 사용\n",
    "### 예외 발생\n",
    "### 예외 만들기"
   ]
  },
  {
   "cell_type": "markdown",
   "metadata": {},
   "source": [
    "## 13. 이터레이터\n",
    "### 반복가능한 객체 알아보기\n",
    "### 이터레이터 만들기\n",
    "### 인덱스로 접근할 수 있는 이터레이터 만들기\n",
    "### iter, next 함수 활용"
   ]
  },
  {
   "cell_type": "markdown",
   "metadata": {},
   "source": [
    "## 14. 제너레이터\n",
    "### 제너레이터와 yield 알아보기\n",
    "### 제너레이터 만들기\n",
    "### yield from으로 값을 여러번 바깥으로 전달"
   ]
  },
  {
   "cell_type": "markdown",
   "metadata": {},
   "source": [
    "## 15. 코루틴\n",
    "### 코루틴에 값 보내기\n",
    "### 코루틴 바깥으로 값 전달\n",
    "### 코루틴을 종료하고 예외처리\n",
    "### 하위 코루틴의 반환값 가져오기"
   ]
  },
  {
   "cell_type": "markdown",
   "metadata": {},
   "source": [
    "## 16. 데코레이터\n",
    "### 데코레이터 만들기\n",
    "### 매개변수와 반환값을 처리하는 데코레이터 만들기\n",
    "### 매개변수가 있는 데코레이터 만들기\n",
    "### 클래스로 데코레이터 만들기\n",
    "### 클래스로 매개변수와 반환값을 처리하는 데코레이터 만들기"
   ]
  },
  {
   "cell_type": "markdown",
   "metadata": {},
   "source": [
    "## 17. 정규표현식\n",
    "### 문자열 판단\n",
    "### 범위 판단\n",
    "### 그룹 사용\n",
    "### 문자열 바꾸기"
   ]
  },
  {
   "cell_type": "markdown",
   "metadata": {},
   "source": [
    "## 18. 모듈과 패키지\n",
    "### 모듈 만들기\n",
    "### 모듈과 시작점\n",
    "### 패키지 만들기\n",
    "### 패키지에서 from import 응용"
   ]
  }
 ],
 "metadata": {
  "kernelspec": {
   "display_name": "Python 3",
   "language": "python",
   "name": "python3"
  },
  "language_info": {
   "codemirror_mode": {
    "name": "ipython",
    "version": 3
   },
   "file_extension": ".py",
   "mimetype": "text/x-python",
   "name": "python",
   "nbconvert_exporter": "python",
   "pygments_lexer": "ipython3",
   "version": "3.7.4"
  }
 },
 "nbformat": 4,
 "nbformat_minor": 2
}
