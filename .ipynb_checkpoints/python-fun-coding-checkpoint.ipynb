{
 "cells": [
  {
   "cell_type": "markdown",
   "metadata": {},
   "source": [
    "## 자료구조\n",
    "### 0. 알고리즘 복잡도(시간 복잡도, 공간 복잡도)\n",
    "### 1. 배열\n",
    "### 2. 큐\n",
    "### 3. 스택\n",
    "### 4. 링크드 리스트\n",
    "### 5. 해쉬 테이블\n",
    "### 6. 해쉬\n",
    "### 7. 트리\n",
    "### 8. 힙"
   ]
  },
  {
   "cell_type": "markdown",
   "metadata": {},
   "source": [
    "---\n",
    "## 기본 알고리즘\n",
    "### 1. 버블 정렬\n",
    "### 2. 삽입 정렬\n",
    "### 3. 선택 정렬\n",
    "### 4. 재귀 용법\n",
    "### 5. 동적 계획법과 분할 정복\n",
    "### 6. 병합 정렬\n",
    "### 7. 퀵 정렬\n",
    "### 8. 순차 탐색\n",
    "### 9. 이진 탐색\n",
    "### 10. 이진 트리 탐색"
   ]
  },
  {
   "cell_type": "markdown",
   "metadata": {},
   "source": [
    "---\n",
    "## 고급 알고리즘\n",
    "### 1. 그래프\n",
    "### 2. 깊이 우선 탐색 (DFS)\n",
    "### 3. 너비 우선 탐색 (BFS)\n",
    "### 4. 탐욕 알고리즘\n",
    "### 5. 최단 경로 알고리즘\n",
    "### 6. 최소 신장 트리(Kruskal)\n",
    "### 7. 최소 신장 트리(Prim's)\n",
    "### 8. 백 트래킹 기법"
   ]
  },
  {
   "cell_type": "markdown",
   "metadata": {},
   "source": [
    "---\n",
    "## 파이썬 객체지향 프로그래밍\n",
    "### 1. 프로그래밍 언어론\n",
    "### 2. 객체지향 프로그래밍\n",
    "### 3. 객체지향 (class와 object)\n",
    "### 4. 객체지향 (생성자와 소멸자 메서드)\n",
    "### 5. 객체지향 (public, private, protected)\n",
    "### 6. 객체지향 (상속)\n",
    "### 7. 클래스 속성과 메서드\n",
    "### 8. 다형성\n",
    "### 9. 연산자 중복\n",
    "### 10. 다중 상속\n",
    "### 11. 포함(Composition)\n",
    "### 12. 5가지 클래스 설계의 원칙 (SOLID)\n",
    "### 13. 디자인 패턴\n",
    "### 14. 특별한 파이썬 클래스 작성법 (namedtuple)"
   ]
  },
  {
   "cell_type": "markdown",
   "metadata": {},
   "source": [
    "### 1. 프로그래밍 언어론\n",
    "#### 프로그래밍 언어\n",
    "    - 인간이 컴퓨터와 의사소통할 수 있도록 컴퓨터가 이해할 수 있는 명령으로 프로그램을 작성할 수 있도록 만든 언어\n",
    "    - 컴퓨터는 기계어만 이해\n",
    "#### 기계어란\n",
    "    - 0,1로 된 이진수 형태로 CPU가 이해할 수 있는 코드\n",
    "#### CPU가 수행할 수 있는 명령 : instruction set ( 기계어로 표시되는 명령어 집합 )\n",
    "    - 더하기, 빼기, 데이터 저장, 불러오기, if, return 등\n",
    "#### 저급언어\n",
    "    - 기계어 : 0,1로 된 2진수 언어\n",
    "    - 어셈블리어 : 기계어 명령을 알기쉬운 기호로 표시\n",
    "#### 고급언어\n",
    "    - 하드웨어 지식이 없어도 쉽게 작성\n",
    "    - 일상 언어(영어)에서 사용하는 표현으로 작성\n",
    "    - 기계어, 어셈블리어는 데이터 저장주소를 정확히 알아야 하나 고급언어는 주소 대신 변수이름으로 저장장소에 접근\n",
    "    - 명령어 하나로 다수 동작 지시 가능\n",
    "#### 컴파일러\n",
    "    고급언어로 작성된 코드를 한번에 기계어로 변환하는 프로그램\n",
    "#### 인터프리터\n",
    "    고급언어로 작성된 코드를 한 줄씩 기계어로 변환하는 프로그램\n",
    "#### 프로그래밍 언어 역사\n",
    "    - 1950 : 어셈블리어, 포트란\n",
    "    - 1960 : 코볼, PL/I\n",
    "    - 1970 : C언어, 파스칼\n",
    "    - 1980 : Basic\n",
    "    - 1990 : C++, Java, Visual Basic, Python\n",
    "    - 2000 : Spark, Scala, Go"
   ]
  },
  {
   "cell_type": "markdown",
   "metadata": {},
   "source": [
    "### 2. 객체지향 프로그래밍\n",
    "#### 절차지향과 객체지향\n",
    "    - 절차지향 : 1990년대 이전 대부분의 언어 ( 파스칼, 코볼, 포트란, C언어 등 )\n",
    "    - 객체지향 : 객체 단위로 데이터와 함수를 하나로 묶어서 쓰는 언어\n",
    "#### 객체지향 프로그래밍 핵심\n",
    "    - class : 설계도\n",
    "    - object : 객체\n",
    "    - attritbue : 변수\n",
    "    - method : 함수\n",
    "#### 객체지향 프로그램 작성 방법"
   ]
  },
  {
   "cell_type": "markdown",
   "metadata": {},
   "source": [
    "### 3. 객체지향 ( 생성자와 소멸자 메서드 )\n",
    "#### 생성자 : __init__(self)\n",
    "    - 객체 생성시 자동 호출\n",
    "    - method이며 첫번째 인자는 self로 설정\n",
    "    - 생성자에서는 보통 해당 클래스가 다루는 데이터를 정의\n",
    "#### 소멸자 : __del__(self)\n",
    "    - 객체 소멸시 자동 호출\n",
    "    - method이며 첫번째 인자는 self로 설정\n",
    "    - 클래스 소멸시 호출\n",
    "    - 객체 삭제 문법 : del 객체명"
   ]
  },
  {
   "cell_type": "code",
   "execution_count": null,
   "metadata": {},
   "outputs": [],
   "source": [
    "class Player:\n",
    "    def __init__(self, name, position, age):\n",
    "        self.name = name\n",
    "        self.position = position\n",
    "        self.age = age\n",
    "    def __del__(self):\n",
    "        print('Player Object is deleted')\n",
    "    \n",
    "    def intro(self):\n",
    "        return 'name is : ' + self.name + ', position : ' + self.position\n",
    "p1 = Player('son','st',29)\n",
    "p1.intro()"
   ]
  },
  {
   "cell_type": "markdown",
   "metadata": {},
   "source": [
    "### 4. 객체지향 (public, private, protected)\n",
    "#### private, protected, public\n",
    "    - 정보 은닉 방식 : class의 attribute, method에 대해 접근을 제어할 수 있는 기능\n",
    "    - priavte -> protected -> public\n",
    "        - private : 해당 클래스에서만 접근 가능\n",
    "        - protected : 해당 클래스 또는 상속받은 클래스에서만 접근 가능\n",
    "    - public : 어떤 클래스에서든 접근 가능\n",
    "#### 파이썬에서 private, protected, public\n",
    "    - 기본적으로 public : 클래스 외부에서 attribute, method 접근 가능\n",
    "    - protected\n",
    "        - 해당 속성 앞에 _(single underscore) 사용\n",
    "        - 실제 제약되지 않고 경고 표시로 사용됨\n",
    "    - private\n",
    "        - 속성,메서드 앞에 __(double underscore)를 붙이면 실제로 해당 이름으로 접근이 허용 되지 않음\n",
    "        - __를 붙이면 해당 이름이 _classname__ 해당 속성 또는 메소드 이름으로 변경되기 때문"
   ]
  },
  {
   "cell_type": "code",
   "execution_count": 3,
   "metadata": {},
   "outputs": [
    {
     "name": "stdout",
     "output_type": "stream",
     "text": [
      "Player Object is deleted\n",
      "name is : son, position : st\n",
      "son\n",
      "name is : son, position : lw\n"
     ]
    }
   ],
   "source": [
    "# 기본적으로 public\n",
    "class Player:\n",
    "    def __init__(self, name, position, age):\n",
    "        self.name = name\n",
    "        self.position = position\n",
    "        self.age = age\n",
    "    def __del__(self):\n",
    "        print('Player Object is deleted')\n",
    "    \n",
    "    def intro(self):\n",
    "        return 'name is : ' + self.name + ', position : ' + self.position\n",
    "\n",
    "p1 = Player('son','st',29)\n",
    "print(p1.intro())\n",
    "print(p1.name)\n",
    "p1.position = 'lw'\n",
    "print(p1.intro())"
   ]
  },
  {
   "cell_type": "markdown",
   "metadata": {},
   "source": [
    "### 5. 객체지향 (상속)\n",
    "#### Class Inheritance(상속)\n",
    "    - 추상화(abstraction) : 여러 클래스에서 중복되는 속성, 메서드를 하나의 기본 클래스로 작성하는 작업\n",
    "    - 상속(inheritance) : 기본 클래스의 공통 기능을 물려받고, 다른 부분만 추가 또는 변경하는 것\n",
    "        - 기본 클래스 : 부모클래스,상위클래스,Parent,Super,Base class\n",
    "        - 자식 클래스, Child, Sub, Derived class\n",
    "    - 부모 클래스가 둘 이상인 경우 다중 상속이라 부름\n",
    "    - 상속 관계인 클래스 확인하기\n",
    "        - issubclass(자식 클래스, 부모 클래스)\n",
    "    - 클래스와 객체간의 관계 확인하기\n",
    "        - isinstance(객체, 클래스)\n",
    "#### Method Override(메서드 재정의)\n",
    "    - 부모 클래스의 method를 자식 클래스에서 재정의(override)\n",
    "    - 자식 클래스에서 부모 클래스 method를 재정의\n",
    "    - 자식 클래스 객체에서는 재정의된 메서드가 호출됨\n",
    "    - 자식 클래스에서 부모 클래스의 메서드와 이름만 동일하면 메서드 재정의가 가능함\n",
    "        - C++/Java언어 등에서는 메서드와 인자도 동일해야 함\n",
    "#### 자식 클래스에서 부모 클래스 메서드 호출(super, self)\n",
    "    - super\n",
    "        - 자식 클래스에서 부모 클래스의 method를 호출할때 사용\n",
    "        - super().부모 클래스의 method명\n",
    "    - self\n",
    "        - self는 현재 객체를 나타냄\n",
    "        - self.method명 또는 attribute명으로 호출\n",
    "    - C++/C#, Java 언어에서는 this라는 키워드를 사용함\n",
    "#### 자식 클래스에서 부모 클래스 메서드 확장방법(심화)\n",
    "    - 부모 클래스 메서드 기능에 추가적인 기능이 필요할 경우\n",
    "        - 부모 클래스 메서드는 그대로 이용하면서 자식 클래스 메서드에서 필요한 기능만 정의하는 기법\n",
    "        - 해당 메서드에서 상속 받은 부모 클래스명.메서드명을 호출하고 필요한 기능 추가 정의\n",
    "#### 추상 클래스 사용\n",
    "    - 메서드 목록만 가진 클래스, 상속받는 클래스에서 해당 메서드 구현해야 함\n",
    "    - 사용법\n",
    "        - abc 라이브러리를 가져옴(from abc import *)\n",
    "        - 클래스 선언시 괄호안에 metaclass=ABCMeta 지정\n",
    "        - 해당 클래스에서 메서드 선언시 상단에 @abstractmethod를 붙여줘야 함"
   ]
  },
  {
   "cell_type": "code",
   "execution_count": 16,
   "metadata": {},
   "outputs": [
    {
     "name": "stdout",
     "output_type": "stream",
     "text": [
      "name is  son\n",
      "name is  son\n",
      "son 29 st real\n",
      "player name is  son\n",
      "react coding\n",
      "cross browser testing...\n"
     ]
    }
   ],
   "source": [
    "class Person:\n",
    "    def __init__(self, name, age):\n",
    "        self.name = name\n",
    "        self.age = age\n",
    "    def get_name(self):\n",
    "        print('name is ', self.name)\n",
    "\n",
    "class Player(Person):\n",
    "    def set_player(self, position, team):\n",
    "        self.__position = position\n",
    "        self.__team = team\n",
    "    def intro_player(self):\n",
    "        # super\n",
    "        super().get_name()\n",
    "        Person.get_name(self)\n",
    "        print(self.name, self.age, self.__position, self.__team)\n",
    "    def get_name(self):\n",
    "        print('player name is ', self.name)\n",
    "        \n",
    "p1 = Player('son',29)\n",
    "p1.set_player('st','real')\n",
    "p1.intro_player()\n",
    "# method overribe\n",
    "p1.get_name()\n",
    "\n",
    "# 추상 클래스\n",
    "from abc import *\n",
    "\n",
    "class Developer(metaclass=ABCMeta):\n",
    "    @abstractmethod\n",
    "    def coding(self):\n",
    "        pass\n",
    "    @abstractmethod\n",
    "    def debugging(self):\n",
    "        pass\n",
    "\n",
    "class Frontend(Developer):\n",
    "    def coding(self):\n",
    "        print('react coding')\n",
    "    def debugging(self):\n",
    "        print('cross browser testing...')\n",
    "        \n",
    "f1 = Frontend()\n",
    "f1.coding()\n",
    "f1.debugging()"
   ]
  },
  {
   "cell_type": "markdown",
   "metadata": {},
   "source": [
    "### 7. 클래스 속성과 메서드\n",
    "#### 클래스 속성과 인스턴스 변수\n",
    "    - 클래스 변수\n",
    "    - 인스턴스 변수\n",
    "#### instance method, static method, class method"
   ]
  },
  {
   "cell_type": "markdown",
   "metadata": {},
   "source": [
    "### 8. 다형성"
   ]
  },
  {
   "cell_type": "markdown",
   "metadata": {},
   "source": [
    "### 9. 연산자 중복"
   ]
  },
  {
   "cell_type": "markdown",
   "metadata": {},
   "source": [
    "### 10. 다중 상속\n"
   ]
  },
  {
   "cell_type": "markdown",
   "metadata": {},
   "source": [
    "### 11. 포함"
   ]
  },
  {
   "cell_type": "markdown",
   "metadata": {},
   "source": [
    "### 12. SOLID"
   ]
  },
  {
   "cell_type": "markdown",
   "metadata": {},
   "source": [
    "### 13. 디자인 패턴"
   ]
  },
  {
   "cell_type": "markdown",
   "metadata": {},
   "source": [
    "### 14. namedtuple"
   ]
  },
  {
   "cell_type": "markdown",
   "metadata": {},
   "source": [
    "---\n",
    "## 파이썬 특수 문법\n",
    "### 1. 중첩 함수 (Nested function)\n",
    "### 2. First Class Function \n",
    "### 3. Closure Function\n",
    "### 4. Decorator\n",
    "### 5. Iterator\n",
    "### 6. Comprehension\n",
    "### 7. Generator"
   ]
  },
  {
   "cell_type": "code",
   "execution_count": null,
   "metadata": {},
   "outputs": [],
   "source": []
  }
 ],
 "metadata": {
  "kernelspec": {
   "display_name": "Python 3",
   "language": "python",
   "name": "python3"
  },
  "language_info": {
   "codemirror_mode": {
    "name": "ipython",
    "version": 3
   },
   "file_extension": ".py",
   "mimetype": "text/x-python",
   "name": "python",
   "nbconvert_exporter": "python",
   "pygments_lexer": "ipython3",
   "version": "3.7.4"
  }
 },
 "nbformat": 4,
 "nbformat_minor": 2
}
